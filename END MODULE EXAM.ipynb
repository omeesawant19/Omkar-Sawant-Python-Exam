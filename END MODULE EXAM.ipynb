{
 "cells": [
  {
   "cell_type": "markdown",
   "id": "cf9b0fc3-7b4a-4fdf-a6d0-ec9f23a147a2",
   "metadata": {},
   "source": [
    "## QUESTION 1"
   ]
  },
  {
   "cell_type": "code",
   "execution_count": 41,
   "id": "e09c438d-78fd-4751-9500-5eec272c6aca",
   "metadata": {
    "scrolled": true
   },
   "outputs": [
    {
     "ename": "AttributeError",
     "evalue": "'builtin_function_or_method' object has no attribute 'missing_character'",
     "output_type": "error",
     "traceback": [
      "\u001b[1;31m---------------------------------------------------------------------------\u001b[0m",
      "\u001b[1;31mAttributeError\u001b[0m                            Traceback (most recent call last)",
      "Cell \u001b[1;32mIn[41], line 9\u001b[0m\n\u001b[0;32m      6\u001b[0m         \u001b[38;5;28;01mreturn\u001b[39;00m a\u001b[38;5;241m-\u001b[39mb\u001b[38;5;241m==\u001b[39m set1\n\u001b[0;32m      7\u001b[0m         \u001b[38;5;28;01mreturn\u001b[39;00m \u001b[38;5;124mf\u001b[39m\u001b[38;5;124m\"\u001b[39m\u001b[38;5;124mthe missing character is \u001b[39m\u001b[38;5;132;01m{\u001b[39;00mset1\u001b[38;5;132;01m}\u001b[39;00m\u001b[38;5;124m\"\u001b[39m\n\u001b[1;32m----> 9\u001b[0m m \u001b[38;5;241m=\u001b[39m \u001b[38;5;28msorted\u001b[39m\u001b[38;5;241m.\u001b[39mmissing_character(set1)\n\u001b[0;32m     10\u001b[0m \u001b[38;5;28mprint\u001b[39m(set1)\n",
      "\u001b[1;31mAttributeError\u001b[0m: 'builtin_function_or_method' object has no attribute 'missing_character'"
     ]
    }
   ],
   "source": [
    "s = (\"The quick brown Fox Jumps over the\")\n",
    "a = (\"The  quick brown fox jumps over the lazy dog\")\n",
    "set1 ={}\n",
    "def missing_character (set1):\n",
    "    if item in a not in s:\n",
    "        return a-b= set1\n",
    "        return f\"the missing character is {set1}\"\n",
    "\n",
    "m = sorted.missing_character(set1)\n",
    "print(set1)\n",
    "    "
   ]
  },
  {
   "cell_type": "markdown",
   "id": "8f004bab-a3a8-4e98-905d-bd14e6c29daf",
   "metadata": {},
   "source": [
    "## Question 2"
   ]
  },
  {
   "cell_type": "code",
   "execution_count": 4,
   "id": "f1d4ab5e-8230-48b5-9725-249288f03fba",
   "metadata": {},
   "outputs": [
    {
     "ename": "IndentationError",
     "evalue": "unindent does not match any outer indentation level (<string>, line 23)",
     "output_type": "error",
     "traceback": [
      "\u001b[1;36m  File \u001b[1;32m<string>:23\u001b[1;36m\u001b[0m\n\u001b[1;33m    category =(input(\"Category : \"))\u001b[0m\n\u001b[1;37m                                    ^\u001b[0m\n\u001b[1;31mIndentationError\u001b[0m\u001b[1;31m:\u001b[0m unindent does not match any outer indentation level\n"
     ]
    }
   ],
   "source": [
    "\n",
    "def Data_parrsing(inventory_dict, product_name,category,price ):\n",
    "  \n",
    "\n",
    "inventory_dict = {}\n",
    "while True:\n",
    "  print(\"-------Welcome--------\")\n",
    "  print(\"Choose options: \")\n",
    "  print(\"1. Electronics\")\n",
    "  print(\"2. Clothing\")\n",
    "  print(\"3. Groceries\")\n",
    "  print(\"4. Exit\")\n",
    "\n",
    "  ch = int(input(\"Enter the choice : \"))\n",
    "\n",
    "  if ch == 1 :\n",
    "      \n",
    "    product_name = input(\"Product name : \")\n",
    "    category =(input(\"Category : \"))\n",
    "    price= int(input(\"Price :\"))\n",
    "    Quantity= int(input(\"Quantity\"))\n",
    "      \n",
    "    (inventory_dict ,product_name,category,price,Quantity)\n",
    "\n",
    "  elif ch == 2:\n",
    "     product_name = input(\"Product name : \")\n",
    "    category =(input(\"Category : \"))\n",
    "    price= int(input(\"Price :\"))\n",
    "    Quantity= int(input(\"Quantity\"))\n",
    "\n",
    "  elif ch == 3:\n",
    "    product_name = input(\"Product name : \")\n",
    "    category =(input(\"Category : \"))\n",
    "    price= int(input(\"Price :\"))\n",
    "    Quantity= int(input(\"Quantity\"))\n",
    "      \n",
    "    (inventory_dict ,product_name,category,price,Quantity)\n",
    "\n",
    "  elif ch == 4:\n",
    "   print(\"thanks for Visiting Welcome Again...\")\n",
    "\n",
    "    break\n",
    "\n",
    "  else:\n",
    "    print(\"Wrong choice entered\")\n",
    "\n",
    "\n"
   ]
  },
  {
   "cell_type": "code",
   "execution_count": 1,
   "id": "35c89b21-44b8-4e0b-832a-83bc4ad6131b",
   "metadata": {},
   "outputs": [
    {
     "ename": "NameError",
     "evalue": "name 'Data_parsing' is not defined",
     "output_type": "error",
     "traceback": [
      "\u001b[1;31m---------------------------------------------------------------------------\u001b[0m",
      "\u001b[1;31mNameError\u001b[0m                                 Traceback (most recent call last)",
      "Cell \u001b[1;32mIn[1], line 1\u001b[0m\n\u001b[1;32m----> 1\u001b[0m d \u001b[38;5;241m=\u001b[39m Data_parsing(inventory_dict)\n\u001b[0;32m      2\u001b[0m \u001b[38;5;28mprint\u001b[39m(d)\n",
      "\u001b[1;31mNameError\u001b[0m: name 'Data_parsing' is not defined"
     ]
    }
   ],
   "source": [
    "d =Data_parsing()\n",
    "print(d)"
   ]
  }
 ],
 "metadata": {
  "kernelspec": {
   "display_name": "Python [conda env:base] *",
   "language": "python",
   "name": "conda-base-py"
  },
  "language_info": {
   "codemirror_mode": {
    "name": "ipython",
    "version": 3
   },
   "file_extension": ".py",
   "mimetype": "text/x-python",
   "name": "python",
   "nbconvert_exporter": "python",
   "pygments_lexer": "ipython3",
   "version": "3.12.7"
  }
 },
 "nbformat": 4,
 "nbformat_minor": 5
}
